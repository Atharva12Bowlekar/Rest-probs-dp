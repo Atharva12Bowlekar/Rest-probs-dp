{
 "cells": [
  {
   "cell_type": "code",
   "execution_count": 22,
   "id": "17f954bd",
   "metadata": {},
   "outputs": [],
   "source": [
    "def gridTraveller(m,n):\n",
    "    if m == 1 and n == 1:\n",
    "        return 1\n",
    "    if m == 0 or n == 0:\n",
    "        return 0\n",
    "    return gridTraveller(m-1,n) + gridTraveller(m,n-1)"
   ]
  },
  {
   "cell_type": "code",
   "execution_count": 23,
   "id": "681c51ce",
   "metadata": {
    "scrolled": true
   },
   "outputs": [
    {
     "data": {
      "text/plain": [
       "6"
      ]
     },
     "execution_count": 23,
     "metadata": {},
     "output_type": "execute_result"
    }
   ],
   "source": [
    "gridTraveller(3,3)"
   ]
  },
  {
   "cell_type": "code",
   "execution_count": 24,
   "id": "c780139b",
   "metadata": {},
   "outputs": [
    {
     "data": {
      "text/plain": [
       "3"
      ]
     },
     "execution_count": 24,
     "metadata": {},
     "output_type": "execute_result"
    }
   ],
   "source": [
    "gridTraveller(3,2)"
   ]
  },
  {
   "cell_type": "code",
   "execution_count": 25,
   "id": "3a9385bb",
   "metadata": {},
   "outputs": [
    {
     "data": {
      "text/plain": [
       "9657700"
      ]
     },
     "execution_count": 25,
     "metadata": {},
     "output_type": "execute_result"
    }
   ],
   "source": [
    "gridTraveller(13,15)"
   ]
  },
  {
   "cell_type": "code",
   "execution_count": 26,
   "id": "f39cd873",
   "metadata": {},
   "outputs": [],
   "source": [
    "def gridTraveller_memo(m,n,memo={}):\n",
    "    if (m,n) in memo:\n",
    "        return memo[(m,n)]\n",
    "    if m == 1 and n == 1:\n",
    "        return 1\n",
    "    if m == 0 or n == 0:\n",
    "        return 0\n",
    "    memo[(m,n)] = gridTraveller_memo(m-1,n,memo) + gridTraveller_memo(m,n-1,memo)\n",
    "    return memo[(m,n)]"
   ]
  },
  {
   "cell_type": "code",
   "execution_count": 27,
   "id": "7e4cc7ad",
   "metadata": {},
   "outputs": [
    {
     "data": {
      "text/plain": [
       "9657700"
      ]
     },
     "execution_count": 27,
     "metadata": {},
     "output_type": "execute_result"
    }
   ],
   "source": [
    "gridTraveller_memo(13,15)"
   ]
  },
  {
   "cell_type": "code",
   "execution_count": null,
   "id": "eea0659a",
   "metadata": {},
   "outputs": [],
   "source": []
  },
  {
   "cell_type": "code",
   "execution_count": null,
   "id": "5d5cab79",
   "metadata": {},
   "outputs": [],
   "source": []
  },
  {
   "cell_type": "code",
   "execution_count": null,
   "id": "e40cee21",
   "metadata": {},
   "outputs": [],
   "source": []
  },
  {
   "cell_type": "code",
   "execution_count": null,
   "id": "2024965c",
   "metadata": {},
   "outputs": [],
   "source": []
  }
 ],
 "metadata": {
  "kernelspec": {
   "display_name": "Python 3 (ipykernel)",
   "language": "python",
   "name": "python3"
  },
  "language_info": {
   "codemirror_mode": {
    "name": "ipython",
    "version": 3
   },
   "file_extension": ".py",
   "mimetype": "text/x-python",
   "name": "python",
   "nbconvert_exporter": "python",
   "pygments_lexer": "ipython3",
   "version": "3.9.12"
  }
 },
 "nbformat": 4,
 "nbformat_minor": 5
}
