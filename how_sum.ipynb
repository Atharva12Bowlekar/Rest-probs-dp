{
 "cells": [
  {
   "cell_type": "code",
   "execution_count": 1,
   "id": "2f275ed3",
   "metadata": {},
   "outputs": [],
   "source": [
    "def how_sum(target, numbers):\n",
    "    if target == 0:\n",
    "        return []\n",
    "    if target < 0:\n",
    "        return None\n",
    "    for num in numbers:\n",
    "        rem = target - num\n",
    "        rem_res = how_sum(rem, numbers)\n",
    "        if rem_res is not None:\n",
    "            rem_res.append(num)\n",
    "            return rem_res\n",
    "    return None"
   ]
  },
  {
   "cell_type": "code",
   "execution_count": 2,
   "id": "73eab13b",
   "metadata": {},
   "outputs": [
    {
     "data": {
      "text/plain": [
       "[3, 2, 2]"
      ]
     },
     "execution_count": 2,
     "metadata": {},
     "output_type": "execute_result"
    }
   ],
   "source": [
    "how_sum(7,[2,3,4])"
   ]
  },
  {
   "cell_type": "code",
   "execution_count": 3,
   "id": "6409d389",
   "metadata": {},
   "outputs": [
    {
     "data": {
      "text/plain": [
       "[3, 2, 2, 2, 2, 2, 2]"
      ]
     },
     "execution_count": 3,
     "metadata": {},
     "output_type": "execute_result"
    }
   ],
   "source": [
    "how_sum(15,[2,3,5])"
   ]
  },
  {
   "cell_type": "code",
   "execution_count": 4,
   "id": "93dd0d1f",
   "metadata": {},
   "outputs": [],
   "source": [
    "how_sum(9,[2,4])"
   ]
  },
  {
   "cell_type": "code",
   "execution_count": 43,
   "id": "a8798109",
   "metadata": {},
   "outputs": [],
   "source": [
    "def how_sum_memo(target, numbers, memo={}):\n",
    "    if target in memo:\n",
    "        return memo[target]\n",
    "    if target == 0:\n",
    "        return []\n",
    "    if target < 0:\n",
    "        return None\n",
    "    \n",
    "    for num in numbers:\n",
    "        rem = target - num\n",
    "        rem_res = how_sum_memo(rem, numbers, memo)\n",
    "        if rem_res is not None:\n",
    "            rem_res.append(num)\n",
    "            memo[target] = rem_res\n",
    "            return memo[target]\n",
    "        \n",
    "    memo[target] = None\n",
    "    return memo[target]"
   ]
  },
  {
   "cell_type": "code",
   "execution_count": 31,
   "id": "ed7847d0",
   "metadata": {},
   "outputs": [
    {
     "data": {
      "text/plain": [
       "[3, 2, 2]"
      ]
     },
     "execution_count": 31,
     "metadata": {},
     "output_type": "execute_result"
    }
   ],
   "source": [
    "how_sum_memo(7,[2,3,4],{})"
   ]
  },
  {
   "cell_type": "code",
   "execution_count": 32,
   "id": "69b931b1",
   "metadata": {},
   "outputs": [
    {
     "data": {
      "text/plain": [
       "[3, 2, 2, 2, 2, 2, 2]"
      ]
     },
     "execution_count": 32,
     "metadata": {},
     "output_type": "execute_result"
    }
   ],
   "source": [
    "how_sum_memo(15,[2,3,5],{})"
   ]
  },
  {
   "cell_type": "code",
   "execution_count": 33,
   "id": "71c39ffe",
   "metadata": {},
   "outputs": [],
   "source": [
    "how_sum_memo(9,[2,4],{})"
   ]
  },
  {
   "cell_type": "code",
   "execution_count": 44,
   "id": "d2f19553",
   "metadata": {},
   "outputs": [],
   "source": [
    "how_sum_memo(300,[7,14],{})"
   ]
  },
  {
   "cell_type": "code",
   "execution_count": null,
   "id": "a88a2288",
   "metadata": {},
   "outputs": [],
   "source": []
  }
 ],
 "metadata": {
  "kernelspec": {
   "display_name": "Python 3 (ipykernel)",
   "language": "python",
   "name": "python3"
  },
  "language_info": {
   "codemirror_mode": {
    "name": "ipython",
    "version": 3
   },
   "file_extension": ".py",
   "mimetype": "text/x-python",
   "name": "python",
   "nbconvert_exporter": "python",
   "pygments_lexer": "ipython3",
   "version": "3.9.12"
  }
 },
 "nbformat": 4,
 "nbformat_minor": 5
}
