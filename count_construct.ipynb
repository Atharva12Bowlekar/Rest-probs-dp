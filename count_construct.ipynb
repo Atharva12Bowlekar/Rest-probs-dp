{
 "cells": [
  {
   "cell_type": "code",
   "execution_count": 1,
   "id": "ed7ea48b",
   "metadata": {},
   "outputs": [],
   "source": [
    "def count_construct(target, word_bank):\n",
    "    if target == \"\":\n",
    "        return 1\n",
    "    count = 0\n",
    "    for word in word_bank:\n",
    "        if target[:len(word)] == word:\n",
    "            sub_word = target[len(word):]\n",
    "            num_ways = count_construct(sub_word, word_bank)\n",
    "            count += num_ways\n",
    "    return count"
   ]
  },
  {
   "cell_type": "code",
   "execution_count": 2,
   "id": "98dba1d7",
   "metadata": {
    "scrolled": true
   },
   "outputs": [
    {
     "data": {
      "text/plain": [
       "1"
      ]
     },
     "execution_count": 2,
     "metadata": {},
     "output_type": "execute_result"
    }
   ],
   "source": [
    "count_construct(\"abcdef\",[\"ab\",\"abc\",\"cd\",\"def\",\"abcd\"])"
   ]
  },
  {
   "cell_type": "code",
   "execution_count": 3,
   "id": "7600b79d",
   "metadata": {
    "scrolled": true
   },
   "outputs": [
    {
     "data": {
      "text/plain": [
       "2"
      ]
     },
     "execution_count": 3,
     "metadata": {},
     "output_type": "execute_result"
    }
   ],
   "source": [
    "count_construct(\"purple\",[\"purp\",\"p\",\"ur\",\"le\"])"
   ]
  },
  {
   "cell_type": "code",
   "execution_count": 4,
   "id": "8d041d60",
   "metadata": {
    "scrolled": true
   },
   "outputs": [
    {
     "data": {
      "text/plain": [
       "0"
      ]
     },
     "execution_count": 4,
     "metadata": {},
     "output_type": "execute_result"
    }
   ],
   "source": [
    "count_construct(\"skateboard\",[\"sk\",\"ska\",\"boar\",\"rd\",\"bo\",\"ate\",\"t\"])"
   ]
  },
  {
   "cell_type": "code",
   "execution_count": 5,
   "id": "cd0e1efc",
   "metadata": {},
   "outputs": [
    {
     "data": {
      "text/plain": [
       "4"
      ]
     },
     "execution_count": 5,
     "metadata": {},
     "output_type": "execute_result"
    }
   ],
   "source": [
    "count_construct(\"enterapotentpot\",[\"a\",\"p\",\"ent\",\"enter\",\"ot\",\"o\",\"t\"])"
   ]
  },
  {
   "cell_type": "code",
   "execution_count": 6,
   "id": "68253dc5",
   "metadata": {
    "scrolled": false
   },
   "outputs": [
    {
     "data": {
      "text/plain": [
       "0"
      ]
     },
     "execution_count": 6,
     "metadata": {},
     "output_type": "execute_result"
    }
   ],
   "source": [
    "count_construct(\"eeeeeeeeeeeeeeef\",[\"eee\",\"ee\",\"eeeeeee\",\"e\"])"
   ]
  },
  {
   "cell_type": "code",
   "execution_count": 7,
   "id": "bdb28d84",
   "metadata": {},
   "outputs": [],
   "source": [
    "def count_construct_memo(target, word_bank, memo={}):\n",
    "    if target in memo:\n",
    "        return memo[target]\n",
    "    if target == \"\":\n",
    "        return 1\n",
    "    count = 0\n",
    "    for word in word_bank:\n",
    "        if target[:len(word)] == word:\n",
    "            sub_word = target[len(word):]\n",
    "            num_ways = count_construct_memo(sub_word, word_bank)\n",
    "            count += num_ways\n",
    "    memo[target] = count    \n",
    "    return memo[target]"
   ]
  },
  {
   "cell_type": "code",
   "execution_count": 8,
   "id": "a32c7b5b",
   "metadata": {
    "scrolled": false
   },
   "outputs": [
    {
     "data": {
      "text/plain": [
       "1"
      ]
     },
     "execution_count": 8,
     "metadata": {},
     "output_type": "execute_result"
    }
   ],
   "source": [
    "count_construct_memo(\"abcdef\",[\"ab\",\"abc\",\"cd\",\"def\",\"abcd\"])"
   ]
  },
  {
   "cell_type": "code",
   "execution_count": 9,
   "id": "8e5c3f31",
   "metadata": {},
   "outputs": [
    {
     "data": {
      "text/plain": [
       "2"
      ]
     },
     "execution_count": 9,
     "metadata": {},
     "output_type": "execute_result"
    }
   ],
   "source": [
    "count_construct_memo(\"purple\",[\"purp\",\"p\",\"ur\",\"le\"])"
   ]
  },
  {
   "cell_type": "code",
   "execution_count": 10,
   "id": "5d865260",
   "metadata": {
    "scrolled": true
   },
   "outputs": [
    {
     "data": {
      "text/plain": [
       "0"
      ]
     },
     "execution_count": 10,
     "metadata": {},
     "output_type": "execute_result"
    }
   ],
   "source": [
    "count_construct_memo(\"skateboard\",[\"sk\",\"ska\",\"boar\",\"rd\",\"bo\",\"ate\",\"t\"])"
   ]
  },
  {
   "cell_type": "code",
   "execution_count": 11,
   "id": "45150e7f",
   "metadata": {},
   "outputs": [
    {
     "data": {
      "text/plain": [
       "4"
      ]
     },
     "execution_count": 11,
     "metadata": {},
     "output_type": "execute_result"
    }
   ],
   "source": [
    "count_construct_memo(\"enterapotentpot\",[\"a\",\"p\",\"ent\",\"enter\",\"ot\",\"o\",\"t\"])"
   ]
  },
  {
   "cell_type": "code",
   "execution_count": 12,
   "id": "5c4df82d",
   "metadata": {
    "scrolled": true
   },
   "outputs": [
    {
     "data": {
      "text/plain": [
       "0"
      ]
     },
     "execution_count": 12,
     "metadata": {},
     "output_type": "execute_result"
    }
   ],
   "source": [
    "count_construct_memo(\"eeeeeeeeeeeeeeef\",[\"eee\",\"ee\",\"eeeeeee\",\"e\"])"
   ]
  },
  {
   "cell_type": "code",
   "execution_count": null,
   "id": "1256be9f",
   "metadata": {},
   "outputs": [],
   "source": []
  },
  {
   "cell_type": "code",
   "execution_count": null,
   "id": "6c368b29",
   "metadata": {},
   "outputs": [],
   "source": []
  }
 ],
 "metadata": {
  "kernelspec": {
   "display_name": "Python 3 (ipykernel)",
   "language": "python",
   "name": "python3"
  },
  "language_info": {
   "codemirror_mode": {
    "name": "ipython",
    "version": 3
   },
   "file_extension": ".py",
   "mimetype": "text/x-python",
   "name": "python",
   "nbconvert_exporter": "python",
   "pygments_lexer": "ipython3",
   "version": "3.9.12"
  }
 },
 "nbformat": 4,
 "nbformat_minor": 5
}
