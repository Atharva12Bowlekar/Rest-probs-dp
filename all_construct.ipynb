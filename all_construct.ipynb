{
 "cells": [
  {
   "cell_type": "code",
   "execution_count": 40,
   "id": "c3eaa3ae",
   "metadata": {},
   "outputs": [],
   "source": [
    "def all_construct(target, word_bank):\n",
    "    if target == \"\":\n",
    "        return [[]]\n",
    "    result = []\n",
    "    for word in word_bank:\n",
    "        if word == target[:len(word)]:\n",
    "            sub_word = target[len(word):]\n",
    "            suffix_ways = all_construct(sub_word, word_bank)\n",
    "            [el.insert(0,word) for el in suffix_ways]\n",
    "            result.extend(suffix_ways)\n",
    "    return result"
   ]
  },
  {
   "cell_type": "code",
   "execution_count": 41,
   "id": "98dba1d7",
   "metadata": {
    "scrolled": false
   },
   "outputs": [
    {
     "data": {
      "text/plain": [
       "[['abc', 'def']]"
      ]
     },
     "execution_count": 41,
     "metadata": {},
     "output_type": "execute_result"
    }
   ],
   "source": [
    "all_construct(\"abcdef\",[\"ab\",\"abc\",\"cd\",\"def\",\"abcd\"])"
   ]
  },
  {
   "cell_type": "code",
   "execution_count": 42,
   "id": "7600b79d",
   "metadata": {},
   "outputs": [
    {
     "data": {
      "text/plain": [
       "[['purp', 'le'], ['p', 'ur', 'p', 'le']]"
      ]
     },
     "execution_count": 42,
     "metadata": {},
     "output_type": "execute_result"
    }
   ],
   "source": [
    "all_construct(\"purple\",[\"purp\",\"p\",\"ur\",\"le\"])"
   ]
  },
  {
   "cell_type": "code",
   "execution_count": 43,
   "id": "8d041d60",
   "metadata": {
    "scrolled": true
   },
   "outputs": [
    {
     "data": {
      "text/plain": [
       "[]"
      ]
     },
     "execution_count": 43,
     "metadata": {},
     "output_type": "execute_result"
    }
   ],
   "source": [
    "all_construct(\"skateboard\",[\"sk\",\"ska\",\"boar\",\"rd\",\"bo\",\"ate\",\"t\"])"
   ]
  },
  {
   "cell_type": "code",
   "execution_count": 44,
   "id": "cd0e1efc",
   "metadata": {},
   "outputs": [
    {
     "data": {
      "text/plain": [
       "[['enter', 'a', 'p', 'ot', 'ent', 'p', 'ot'],\n",
       " ['enter', 'a', 'p', 'ot', 'ent', 'p', 'o', 't'],\n",
       " ['enter', 'a', 'p', 'o', 't', 'ent', 'p', 'ot'],\n",
       " ['enter', 'a', 'p', 'o', 't', 'ent', 'p', 'o', 't']]"
      ]
     },
     "execution_count": 44,
     "metadata": {},
     "output_type": "execute_result"
    }
   ],
   "source": [
    "all_construct(\"enterapotentpot\",[\"a\",\"p\",\"ent\",\"enter\",\"ot\",\"o\",\"t\"])"
   ]
  },
  {
   "cell_type": "code",
   "execution_count": 45,
   "id": "68253dc5",
   "metadata": {
    "scrolled": true
   },
   "outputs": [
    {
     "data": {
      "text/plain": [
       "[]"
      ]
     },
     "execution_count": 45,
     "metadata": {},
     "output_type": "execute_result"
    }
   ],
   "source": [
    "all_construct(\"eeeeeeeeeeeeeeef\",[\"eee\",\"ee\",\"eeeeeee\",\"e\"])"
   ]
  },
  {
   "cell_type": "code",
   "execution_count": 61,
   "id": "3a4f9ddd",
   "metadata": {},
   "outputs": [],
   "source": [
    "def all_construct_memo(target, word_bank, memo={}):\n",
    "    if target in memo.keys():\n",
    "        return memo[target]\n",
    "    if target == \"\":\n",
    "        return [[]]\n",
    "    result = []\n",
    "    for word in word_bank:\n",
    "        if word == target[:len(word)]:\n",
    "            sub_word = target[len(word):]\n",
    "            suffix_ways = all_construct_memo(sub_word, word_bank, memo)\n",
    "            target_ways = [el[:] for el in suffix_ways]\n",
    "            [el.insert(0,word) for el in target_ways]\n",
    "            result.extend(target_ways)\n",
    "    memo[target] = result\n",
    "    return memo[target]"
   ]
  },
  {
   "cell_type": "code",
   "execution_count": 62,
   "id": "2926d9f6",
   "metadata": {
    "scrolled": false
   },
   "outputs": [
    {
     "data": {
      "text/plain": [
       "[['abc', 'def']]"
      ]
     },
     "execution_count": 62,
     "metadata": {},
     "output_type": "execute_result"
    }
   ],
   "source": [
    "all_construct_memo(\"abcdef\",[\"ab\",\"abc\",\"cd\",\"def\",\"abcd\"])"
   ]
  },
  {
   "cell_type": "code",
   "execution_count": 63,
   "id": "b6f2c07c",
   "metadata": {},
   "outputs": [
    {
     "data": {
      "text/plain": [
       "[['purp', 'le'], ['p', 'ur', 'p', 'le']]"
      ]
     },
     "execution_count": 63,
     "metadata": {},
     "output_type": "execute_result"
    }
   ],
   "source": [
    "all_construct_memo(\"purple\",[\"purp\",\"p\",\"ur\",\"le\"])"
   ]
  },
  {
   "cell_type": "code",
   "execution_count": 64,
   "id": "7694ce05",
   "metadata": {
    "scrolled": true
   },
   "outputs": [
    {
     "data": {
      "text/plain": [
       "[]"
      ]
     },
     "execution_count": 64,
     "metadata": {},
     "output_type": "execute_result"
    }
   ],
   "source": [
    "all_construct_memo(\"skateboard\",[\"sk\",\"ska\",\"boar\",\"rd\",\"bo\",\"ate\",\"t\"])"
   ]
  },
  {
   "cell_type": "code",
   "execution_count": 65,
   "id": "79728df4",
   "metadata": {},
   "outputs": [
    {
     "data": {
      "text/plain": [
       "[['enter', 'a', 'p', 'ot', 'ent', 'p', 'ot'],\n",
       " ['enter', 'a', 'p', 'ot', 'ent', 'p', 'o', 't'],\n",
       " ['enter', 'a', 'p', 'o', 't', 'ent', 'p', 'ot'],\n",
       " ['enter', 'a', 'p', 'o', 't', 'ent', 'p', 'o', 't']]"
      ]
     },
     "execution_count": 65,
     "metadata": {},
     "output_type": "execute_result"
    }
   ],
   "source": [
    "all_construct_memo(\"enterapotentpot\",[\"a\",\"p\",\"ent\",\"enter\",\"ot\",\"o\",\"t\"])"
   ]
  },
  {
   "cell_type": "code",
   "execution_count": 66,
   "id": "aa805232",
   "metadata": {
    "scrolled": true
   },
   "outputs": [
    {
     "data": {
      "text/plain": [
       "[]"
      ]
     },
     "execution_count": 66,
     "metadata": {},
     "output_type": "execute_result"
    }
   ],
   "source": [
    "all_construct_memo(\"eeeeeeeeeeeeeeef\",[\"eee\",\"ee\",\"eeeeeee\",\"e\"])"
   ]
  },
  {
   "cell_type": "code",
   "execution_count": null,
   "id": "ee2fb1ac",
   "metadata": {},
   "outputs": [],
   "source": []
  },
  {
   "cell_type": "code",
   "execution_count": null,
   "id": "911ce03f",
   "metadata": {},
   "outputs": [],
   "source": []
  }
 ],
 "metadata": {
  "kernelspec": {
   "display_name": "Python 3 (ipykernel)",
   "language": "python",
   "name": "python3"
  },
  "language_info": {
   "codemirror_mode": {
    "name": "ipython",
    "version": 3
   },
   "file_extension": ".py",
   "mimetype": "text/x-python",
   "name": "python",
   "nbconvert_exporter": "python",
   "pygments_lexer": "ipython3",
   "version": "3.9.12"
  }
 },
 "nbformat": 4,
 "nbformat_minor": 5
}
