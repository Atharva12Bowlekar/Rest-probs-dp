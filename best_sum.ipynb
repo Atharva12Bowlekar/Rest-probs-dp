{
 "cells": [
  {
   "cell_type": "code",
   "execution_count": 24,
   "id": "9c4ad01e",
   "metadata": {},
   "outputs": [],
   "source": [
    "def best_sum(target, numbers):\n",
    "    if target == 0:\n",
    "        return []\n",
    "    if target < 0:\n",
    "        return None\n",
    "    shortest_comb = None\n",
    "    for num in numbers:\n",
    "        rem = target - num\n",
    "        rem_comb = best_sum(rem, numbers)\n",
    "        if rem_comb is not None:\n",
    "            rem_comb.append(num)\n",
    "            if shortest_comb == None or len(rem_comb) < len(shortest_comb):\n",
    "                shortest_comb = rem_comb\n",
    "    return shortest_comb"
   ]
  },
  {
   "cell_type": "code",
   "execution_count": 25,
   "id": "2a9c49f1",
   "metadata": {},
   "outputs": [
    {
     "name": "stdout",
     "output_type": "stream",
     "text": [
      "[7]\n"
     ]
    }
   ],
   "source": [
    "print(best_sum(7,[2,3,5,7]))"
   ]
  },
  {
   "cell_type": "code",
   "execution_count": 26,
   "id": "8bfa6856",
   "metadata": {},
   "outputs": [
    {
     "data": {
      "text/plain": [
       "[5, 3]"
      ]
     },
     "execution_count": 26,
     "metadata": {},
     "output_type": "execute_result"
    }
   ],
   "source": [
    "best_sum(8,[2,3,5])"
   ]
  },
  {
   "cell_type": "code",
   "execution_count": 27,
   "id": "d4ee551c",
   "metadata": {},
   "outputs": [
    {
     "data": {
      "text/plain": [
       "[5, 5, 5, 5, 1]"
      ]
     },
     "execution_count": 27,
     "metadata": {},
     "output_type": "execute_result"
    }
   ],
   "source": [
    "best_sum(21,[1,4,5])"
   ]
  },
  {
   "cell_type": "code",
   "execution_count": null,
   "id": "4905c80e",
   "metadata": {},
   "outputs": [],
   "source": [
    "def best_sum_memo(target, numbers, memo={}):\n",
    "    if target in memo:\n",
    "        return memo[target]\n",
    "    if target == 0:\n",
    "        return []\n",
    "    if target < 0:\n",
    "        return None\n",
    "    \n",
    "    shortest_comb = None\n",
    "    \n",
    "    for num in numbers:\n",
    "        rem = target - num\n",
    "        rem_comb = best_sum_memo(rem, numbers, memo)\n",
    "        \n",
    "        if rem_comb is not None:\n",
    "            comb = rem_comb + [num]\n",
    "            if shortest_comb is None or len(rem_comb) < len(shortest_comb):\n",
    "                shortest_comb = comb.copy()\n",
    "                \n",
    "    if shortest_comb:\n",
    "        memo[target] = shortest_comb.copy()\n",
    "    else:\n",
    "        memo[target] = None\n",
    "        \n",
    "    return shortest_comb"
   ]
  },
  {
   "cell_type": "code",
   "execution_count": null,
   "id": "a06ef9dd",
   "metadata": {},
   "outputs": [],
   "source": [
    "best_sum_memo(7,[2,3,5,7])"
   ]
  },
  {
   "cell_type": "code",
   "execution_count": null,
   "id": "2a1de44c",
   "metadata": {},
   "outputs": [],
   "source": [
    "best_sum_memo(8,[2,3,5])"
   ]
  },
  {
   "cell_type": "code",
   "execution_count": null,
   "id": "84326230",
   "metadata": {},
   "outputs": [],
   "source": [
    "best_sum_memo(8,[1,4,5])"
   ]
  },
  {
   "cell_type": "code",
   "execution_count": null,
   "id": "a3877e00",
   "metadata": {},
   "outputs": [],
   "source": [
    "best_sum_memo(50,[1,2,5,25])"
   ]
  },
  {
   "cell_type": "code",
   "execution_count": null,
   "id": "e3729df8",
   "metadata": {},
   "outputs": [],
   "source": []
  },
  {
   "cell_type": "code",
   "execution_count": null,
   "id": "be483317",
   "metadata": {},
   "outputs": [],
   "source": []
  }
 ],
 "metadata": {
  "kernelspec": {
   "display_name": "Python 3 (ipykernel)",
   "language": "python",
   "name": "python3"
  },
  "language_info": {
   "codemirror_mode": {
    "name": "ipython",
    "version": 3
   },
   "file_extension": ".py",
   "mimetype": "text/x-python",
   "name": "python",
   "nbconvert_exporter": "python",
   "pygments_lexer": "ipython3",
   "version": "3.9.12"
  }
 },
 "nbformat": 4,
 "nbformat_minor": 5
}
